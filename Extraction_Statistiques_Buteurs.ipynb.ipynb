{
 "cells": [
  {
   "cell_type": "code",
   "execution_count": 1,
   "metadata": {},
   "outputs": [],
   "source": [
    "# Importer des bibliothèques\n",
    "from bs4 import BeautifulSoup\n",
    "import requests\n",
    "import pandas as pd \n",
    "import os\n",
    "import re\n",
    "from io import StringIO"
   ]
  },
  {
   "cell_type": "code",
   "execution_count": 2,
   "metadata": {},
   "outputs": [],
   "source": [
    "# # Liste d'URLs vers les pages contenant les données de football à extraire\n",
    "url = ['https://www.kooora.com/?c=5875&scorers=true','https://www.kooora.com/?c=7607&scorers=true',\n",
    "       'https://www.kooora.com/?c=8648&scorers=true','https://www.kooora.com/?c=9406&scorers=true',\n",
    "       'https://www.kooora.com/?c=10693&scorers=true','https://www.kooora.com/?c=10392&scorers=true',\n",
    "       'https://www.kooora.com/?c=13055&scorers=true','https://www.kooora.com/?c=14595&scorers=true',\n",
    "       'https://www.kooora.com/?c=16056&scorers=true','https://www.kooora.com/?c=17865&scorers=true',\n",
    "       'https://www.kooora.com/?c=21404&scorers=true','https://www.kooora.com/?c=22826&scorers=true',\n",
    "       'https://www.kooora.com/?c=24721&scorers=true']"
   ]
  },
  {
   "cell_type": "code",
   "execution_count": 3,
   "metadata": {},
   "outputs": [],
   "source": [
    "# Initialisation de la variable de comptage 'i'\n",
    "i = 0\n",
    "# Pour le stocker le dataFrame de chaque annee\n",
    "liste_df_global = []\n",
    "# Boucle pour extraire et traiter les statistiques des joueurs à partir des liens URL fournis\n",
    "for u in url :\n",
    "    # Faire une requête GET à l'URL u\n",
    "    page = requests.get(u)\n",
    "    # Utilisation de BeautifulSoup pour analyser le contenu HTML de la page obtenue précédemment\n",
    "    soup = BeautifulSoup(page.content, 'html.parser')\n",
    "    # Recherche de toutes les balises <table> dans le contenu HTML analysé\n",
    "    tab = soup.find_all(\"table\")\n",
    "    # Sélection de la deuxième balise <table> de la liste tab\n",
    "    tab =  tab[1]\n",
    "    # Trouver la balise de script contenant scorers_details\n",
    "    script_tag = soup.find('script', string=re.compile(r'var scorers_details ='))\n",
    "    # Trouver la balise de script contenant scorers_details (scorers_details c'est la table en JS qui contient les données (objectif))\n",
    "    if script_tag:\n",
    "        script = script_tag.string\n",
    "    else:\n",
    "        print(\"Balise de script introuvable\")\n",
    "    # Diviser le script en lignes en utilisant \"\\n\" comme séparateur\n",
    "    lignes = script.split(\"\\n\")\n",
    "    # Déclaration d'un liste\n",
    "    data = []\n",
    "    # Sauvegarder les lignes correspondantes dans la liste \"data\"\n",
    "    for ligne in lignes:\n",
    "        data.append(ligne)\n",
    "    # Exclure certaines lignes non nécessaires en conservant les lignes pertinentes dans la liste \"data\"\n",
    "    data = data[2:len(data)-3]\n",
    "    # Créer un flux de texte à partir des données\n",
    "    data_stream = StringIO(\"\\n\".join(data))\n",
    "    # Lire le flux de texte dans une dataframe pandas\n",
    "    df = pd.read_csv(data_stream, header=None)\n",
    "    # Définir les colonnes de notre dataFrame pour le sauvegarder\n",
    "    colonnes = {0:\"Nombre de buts\", 1:\"Nombre de penalties marquées\", \n",
    "                2:\"Nombre de penalties perdues\",3:\"Nombre de buts contre son camp\", \n",
    "                4:\"Nombre de cartes jaunes\", 5:\"Nombre de cartes rouges\",6:\"\",\n",
    "                7:\"Position\",8:\"\", 9:\"\", 10:\"Nom du Joueur\",11:\"\",12:\"\",13:\"\",14:\"\",15:\"\",\n",
    "                16:\"\",17:\"\",18:\"\",19:\"\",20:\"\",21:\"\",22:\"\",23:\"\"}\n",
    "    # Renommer les colonnes de df\n",
    "    df.rename(columns=colonnes, inplace=True)\n",
    "    # Sélectionner les colonnes utiles et négliger les autres\n",
    "    colonne_s = [\"Nom du Joueur\", \"Position\", \"Nombre de buts\", \"Nombre de penalties marquées\", \n",
    "                \"Nombre de penalties perdues\",\"Nombre de buts contre son camp\", \n",
    "                \"Nombre de cartes jaunes\", \"Nombre de cartes rouges\"]\n",
    "    df = df[colonne_s]\n",
    "    liste_df_global.append(df)\n",
    "    # Incrémenter l'index pour l'année\n",
    "    i = i+1"
   ]
  },
  {
   "cell_type": "code",
   "execution_count": 4,
   "metadata": {},
   "outputs": [
    {
     "name": "stdout",
     "output_type": "stream",
     "text": [
      "Le stockage des statistiques de buteurs pour l'année 2010_2011 a été effectué avec succès.\n",
      "Le stockage des statistiques de buteurs pour l'année 2011_2012 a été effectué avec succès.\n",
      "Le stockage des statistiques de buteurs pour l'année 2012_2013 a été effectué avec succès.\n",
      "Le stockage des statistiques de buteurs pour l'année 2013_2014 a été effectué avec succès.\n",
      "Le stockage des statistiques de buteurs pour l'année 2014_2015 a été effectué avec succès.\n",
      "Le stockage des statistiques de buteurs pour l'année 2015_2016 a été effectué avec succès.\n",
      "Le stockage des statistiques de buteurs pour l'année 2016_2017 a été effectué avec succès.\n",
      "Le stockage des statistiques de buteurs pour l'année 2017_2018 a été effectué avec succès.\n",
      "Le stockage des statistiques de buteurs pour l'année 2018_2019 a été effectué avec succès.\n",
      "Le stockage des statistiques de buteurs pour l'année 2019_2020 a été effectué avec succès.\n",
      "Le stockage des statistiques de buteurs pour l'année 2020_2021 a été effectué avec succès.\n",
      "Le stockage des statistiques de buteurs pour l'année 2021_2022 a été effectué avec succès.\n",
      "Le stockage des statistiques de buteurs pour l'année 2022_2023 a été effectué avec succès.\n"
     ]
    }
   ],
   "source": [
    "# Pour enregistrer ces données dans des fichiers Excel\n",
    "annee = ['2010_2011','2011_2012','2012_2013','2013_2014',\n",
    "         '2014_2015','2015_2016','2016_2017','2017_2018',\n",
    "         '2018_2019','2019_2020','2020_2021','2021_2022',\n",
    "         '2022_2023']\n",
    "i = 0\n",
    "chemin = \"C:\\\\Users\\\\HP 840 G6\\\\Desktop\" #Vous pouvez changer le chemin\n",
    "for j in liste_df_global :\n",
    "    j.to_excel(f\"{chemin}\\\\stat_buteurs_{annee[i]}.xlsx\")\n",
    "    print(f\"Le stockage des statistiques de buteurs pour l'année {annee[i]} a été effectué avec succès.\")\n",
    "    i = i + 1"
   ]
  }
 ],
 "metadata": {
  "kernelspec": {
   "display_name": "Python 3",
   "language": "python",
   "name": "python3"
  },
  "language_info": {
   "codemirror_mode": {
    "name": "ipython",
    "version": 3
   },
   "file_extension": ".py",
   "mimetype": "text/x-python",
   "name": "python",
   "nbconvert_exporter": "python",
   "pygments_lexer": "ipython3",
   "version": "3.11.1"
  },
  "orig_nbformat": 4
 },
 "nbformat": 4,
 "nbformat_minor": 2
}
